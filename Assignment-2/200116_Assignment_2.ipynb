{
  "nbformat": 4,
  "nbformat_minor": 0,
  "metadata": {
    "colab": {
      "name": "Sentimental_AI_A2.ipynb",
      "provenance": []
    },
    "kernelspec": {
      "name": "python3",
      "display_name": "Python 3"
    },
    "language_info": {
      "name": "python"
    }
  },
  "cells": [
    {
      "cell_type": "markdown",
      "source": [
        "# SENTIMENTAL AI\n",
        "# SnT Summer Project, BCS-IITK\n",
        "## Assignment-2\n",
        "\n",
        "Reference- https://github.com/07Agarg/Natural-Language-Processing-In-Tensorflow-Course/blob/master/Week%204/NLP_Week4_Exercise_Shakespeare_Question.ipynb "
      ],
      "metadata": {
        "id": "uKOZJpSejuwQ"
      }
    },
    {
      "cell_type": "code",
      "execution_count": 1,
      "metadata": {
        "id": "UbboSp2kgxU2"
      },
      "outputs": [],
      "source": [
        "from tensorflow.keras.preprocessing.sequence import pad_sequences\n",
        "from tensorflow.keras.layers import Embedding, LSTM, Dense, Dropout, Bidirectional\n",
        "from tensorflow.keras.preprocessing.text import Tokenizer\n",
        "from tensorflow.keras.models import Sequential\n",
        "from tensorflow.keras.optimizers import Adam\n",
        "from tensorflow.keras.regularizers import Regularizer\n",
        "import tensorflow.keras.utils as ku \n",
        "import numpy as np "
      ]
    },
    {
      "cell_type": "code",
      "source": [
        "tokenizer = Tokenizer()\n",
        "!wget --no-check-certificate \\\n",
        "    https://storage.googleapis.com/laurencemoroney-blog.appspot.com/sonnets.txt \\\n",
        "    -O /tmp/sonnets.txt\n",
        "data = open('/tmp/sonnets.txt').read()\n",
        "\n",
        "\n",
        "\n",
        "corpus = data.lower().split(\"\\n\")  #convert to lower case and then split the data on '\\n' to create a corpus of lines\n",
        "tokenizer.fit_on_texts(corpus) #fit the tokenizer on the corpus\n",
        "total_words = len(tokenizer.word_index) + 1\n",
        "\n",
        "\n",
        "\n",
        "# create input sequences using list of tokens\n",
        "input_sequences = []\n",
        "for line in corpus:\n",
        "\ttoken_list = tokenizer.texts_to_sequences([line])[0]\n",
        "\tfor i in range(1, len(token_list)):\n",
        "\t\tn_gram_sequence = token_list[:i+1]\n",
        "\t\tinput_sequences.append(n_gram_sequence)\n",
        "\n",
        "\n",
        "# pad sequences \n",
        "max_sequence_len = max([len(x) for x in input_sequences])\n",
        "input_sequences = np.array(pad_sequences(input_sequences, maxlen=max_sequence_len, padding='pre'))\n",
        "\n",
        "# create predictors and label\n",
        "predictors, label = input_sequences[:,:-1],input_sequences[:,-1]\n",
        "\n",
        "label = ku.to_categorical(label, num_classes=total_words)"
      ],
      "metadata": {
        "colab": {
          "base_uri": "https://localhost:8080/"
        },
        "id": "bjKVL_nyg6EX",
        "outputId": "0d3c25de-0f94-4f78-c7c0-1b1ee3e590ea"
      },
      "execution_count": 3,
      "outputs": [
        {
          "output_type": "stream",
          "name": "stdout",
          "text": [
            "--2022-06-16 18:19:45--  https://storage.googleapis.com/laurencemoroney-blog.appspot.com/sonnets.txt\n",
            "Resolving storage.googleapis.com (storage.googleapis.com)... 108.177.112.128, 74.125.124.128, 108.177.111.128, ...\n",
            "Connecting to storage.googleapis.com (storage.googleapis.com)|108.177.112.128|:443... connected.\n",
            "HTTP request sent, awaiting response... 200 OK\n",
            "Length: 93578 (91K) [text/plain]\n",
            "Saving to: ‘/tmp/sonnets.txt’\n",
            "\n",
            "\r/tmp/sonnets.txt      0%[                    ]       0  --.-KB/s               \r/tmp/sonnets.txt    100%[===================>]  91.38K  --.-KB/s    in 0.001s  \n",
            "\n",
            "2022-06-16 18:19:45 (106 MB/s) - ‘/tmp/sonnets.txt’ saved [93578/93578]\n",
            "\n"
          ]
        }
      ]
    },
    {
      "cell_type": "code",
      "source": [
        "model = Sequential()\n",
        "model.add(Embedding(total_words, 100, input_length=max_sequence_len-1))  #(# Your Embedding Layer)\n",
        "model.add(Bidirectional(LSTM(150, return_sequences=True)))  #(# A Bidirectional LSTM Layer)\n",
        "model.add(Dropout(0.2))  #(# A dropout layer)\n",
        "model.add(LSTM(100))  #(# Another LSTM Layer)\n",
        "model.add(Dense(total_words/2, activation='relu'))  #(# A Dense Layer including regularizers)\n",
        "model.add(Dense(total_words, activation='softmax'))  #(# A Dense Layer)\n",
        "# Pick an optimizer\n",
        "model.compile(loss='categorical_crossentropy', optimizer='adam', metrics='accuracy')  #(# Pick a loss function and an optimizer)\n",
        "print(model.summary()) #print model summary"
      ],
      "metadata": {
        "id": "6GnoE7fchEp6",
        "colab": {
          "base_uri": "https://localhost:8080/"
        },
        "outputId": "73da5e81-4fe9-48c6-e3a2-9fef90a9cbed"
      },
      "execution_count": 4,
      "outputs": [
        {
          "output_type": "stream",
          "name": "stdout",
          "text": [
            "Model: \"sequential\"\n",
            "_________________________________________________________________\n",
            " Layer (type)                Output Shape              Param #   \n",
            "=================================================================\n",
            " embedding (Embedding)       (None, 10, 100)           321100    \n",
            "                                                                 \n",
            " bidirectional (Bidirectiona  (None, 10, 300)          301200    \n",
            " l)                                                              \n",
            "                                                                 \n",
            " dropout (Dropout)           (None, 10, 300)           0         \n",
            "                                                                 \n",
            " lstm_1 (LSTM)               (None, 100)               160400    \n",
            "                                                                 \n",
            " dense (Dense)               (None, 1605)              162105    \n",
            "                                                                 \n",
            " dense_1 (Dense)             (None, 3211)              5156866   \n",
            "                                                                 \n",
            "=================================================================\n",
            "Total params: 6,101,671\n",
            "Trainable params: 6,101,671\n",
            "Non-trainable params: 0\n",
            "_________________________________________________________________\n",
            "None\n"
          ]
        }
      ]
    },
    {
      "cell_type": "code",
      "source": [
        " history = model.fit(predictors, label, epochs=50, verbose=1) #change the number of epochs after observing the plots later on at the point where the accuracy saturates"
      ],
      "metadata": {
        "id": "Se-rEkushRht",
        "colab": {
          "base_uri": "https://localhost:8080/"
        },
        "outputId": "1949798a-df5b-46a6-9828-7e872f7d58fb"
      },
      "execution_count": 7,
      "outputs": [
        {
          "output_type": "stream",
          "name": "stdout",
          "text": [
            "Epoch 1/50\n",
            "484/484 [==============================] - 56s 115ms/step - loss: 0.9402 - accuracy: 0.7630\n",
            "Epoch 2/50\n",
            "484/484 [==============================] - 55s 114ms/step - loss: 0.8961 - accuracy: 0.7731\n",
            "Epoch 3/50\n",
            "484/484 [==============================] - 56s 116ms/step - loss: 0.8494 - accuracy: 0.7827\n",
            "Epoch 4/50\n",
            "484/484 [==============================] - 55s 113ms/step - loss: 0.8133 - accuracy: 0.7944\n",
            "Epoch 5/50\n",
            "484/484 [==============================] - 55s 113ms/step - loss: 0.7850 - accuracy: 0.7981\n",
            "Epoch 6/50\n",
            "484/484 [==============================] - 55s 113ms/step - loss: 0.7688 - accuracy: 0.8013\n",
            "Epoch 7/50\n",
            "484/484 [==============================] - 56s 116ms/step - loss: 0.7472 - accuracy: 0.8066\n",
            "Epoch 8/50\n",
            "484/484 [==============================] - 54s 112ms/step - loss: 0.7206 - accuracy: 0.8121\n",
            "Epoch 9/50\n",
            "484/484 [==============================] - 54s 112ms/step - loss: 0.6975 - accuracy: 0.8188\n",
            "Epoch 10/50\n",
            "484/484 [==============================] - 53s 111ms/step - loss: 0.7080 - accuracy: 0.8120\n",
            "Epoch 11/50\n",
            "484/484 [==============================] - 54s 112ms/step - loss: 0.6947 - accuracy: 0.8163\n",
            "Epoch 12/50\n",
            "484/484 [==============================] - 56s 115ms/step - loss: 0.6872 - accuracy: 0.8188\n",
            "Epoch 13/50\n",
            "484/484 [==============================] - 54s 112ms/step - loss: 0.6520 - accuracy: 0.8263\n",
            "Epoch 14/50\n",
            "484/484 [==============================] - 54s 112ms/step - loss: 0.6445 - accuracy: 0.8281\n",
            "Epoch 15/50\n",
            "484/484 [==============================] - 54s 111ms/step - loss: 0.6289 - accuracy: 0.8297\n",
            "Epoch 16/50\n",
            "484/484 [==============================] - 54s 112ms/step - loss: 0.6515 - accuracy: 0.8241\n",
            "Epoch 17/50\n",
            "484/484 [==============================] - 53s 110ms/step - loss: 0.6452 - accuracy: 0.8229\n",
            "Epoch 18/50\n",
            "484/484 [==============================] - 54s 111ms/step - loss: 0.6260 - accuracy: 0.8297\n",
            "Epoch 19/50\n",
            "484/484 [==============================] - 54s 112ms/step - loss: 0.6223 - accuracy: 0.8292\n",
            "Epoch 20/50\n",
            "484/484 [==============================] - 54s 112ms/step - loss: 0.6109 - accuracy: 0.8341\n",
            "Epoch 21/50\n",
            "484/484 [==============================] - 55s 114ms/step - loss: 0.6080 - accuracy: 0.8328\n",
            "Epoch 22/50\n",
            "484/484 [==============================] - 56s 115ms/step - loss: 0.5979 - accuracy: 0.8341\n",
            "Epoch 23/50\n",
            "484/484 [==============================] - 55s 113ms/step - loss: 0.5946 - accuracy: 0.8345\n",
            "Epoch 24/50\n",
            "484/484 [==============================] - 54s 112ms/step - loss: 0.5776 - accuracy: 0.8401\n",
            "Epoch 25/50\n",
            "484/484 [==============================] - 55s 114ms/step - loss: 0.5719 - accuracy: 0.8415\n",
            "Epoch 26/50\n",
            "484/484 [==============================] - 54s 111ms/step - loss: 0.5885 - accuracy: 0.8352\n",
            "Epoch 27/50\n",
            "484/484 [==============================] - 54s 112ms/step - loss: 0.5838 - accuracy: 0.8346\n",
            "Epoch 28/50\n",
            "484/484 [==============================] - 54s 112ms/step - loss: 0.6000 - accuracy: 0.8303\n",
            "Epoch 29/50\n",
            "484/484 [==============================] - 55s 115ms/step - loss: 0.5872 - accuracy: 0.8348\n",
            "Epoch 30/50\n",
            "484/484 [==============================] - 54s 112ms/step - loss: 0.5704 - accuracy: 0.8375\n",
            "Epoch 31/50\n",
            "484/484 [==============================] - 54s 111ms/step - loss: 0.5637 - accuracy: 0.8396\n",
            "Epoch 32/50\n",
            "484/484 [==============================] - 54s 111ms/step - loss: 0.5614 - accuracy: 0.8393\n",
            "Epoch 33/50\n",
            "484/484 [==============================] - 54s 111ms/step - loss: 0.5754 - accuracy: 0.8337\n",
            "Epoch 34/50\n",
            "484/484 [==============================] - 55s 114ms/step - loss: 0.5706 - accuracy: 0.8379\n",
            "Epoch 35/50\n",
            "484/484 [==============================] - 54s 112ms/step - loss: 0.5710 - accuracy: 0.8366\n",
            "Epoch 36/50\n",
            "484/484 [==============================] - 54s 111ms/step - loss: 0.5539 - accuracy: 0.8402\n",
            "Epoch 37/50\n",
            "484/484 [==============================] - 54s 111ms/step - loss: 0.5490 - accuracy: 0.8418\n",
            "Epoch 38/50\n",
            "484/484 [==============================] - 55s 114ms/step - loss: 0.5475 - accuracy: 0.8419\n",
            "Epoch 39/50\n",
            "484/484 [==============================] - 54s 112ms/step - loss: 0.5466 - accuracy: 0.8414\n",
            "Epoch 40/50\n",
            "484/484 [==============================] - 54s 112ms/step - loss: 0.5466 - accuracy: 0.8418\n",
            "Epoch 41/50\n",
            "484/484 [==============================] - 54s 111ms/step - loss: 0.5490 - accuracy: 0.8401\n",
            "Epoch 42/50\n",
            "484/484 [==============================] - 55s 113ms/step - loss: 0.5534 - accuracy: 0.8373\n",
            "Epoch 43/50\n",
            "484/484 [==============================] - 54s 112ms/step - loss: 0.5602 - accuracy: 0.8362\n",
            "Epoch 44/50\n",
            "484/484 [==============================] - 54s 112ms/step - loss: 0.5455 - accuracy: 0.8387\n",
            "Epoch 45/50\n",
            "484/484 [==============================] - 55s 113ms/step - loss: 0.5338 - accuracy: 0.8420\n",
            "Epoch 46/50\n",
            "484/484 [==============================] - 55s 114ms/step - loss: 0.5309 - accuracy: 0.8433\n",
            "Epoch 47/50\n",
            "484/484 [==============================] - 54s 112ms/step - loss: 0.5386 - accuracy: 0.8441\n",
            "Epoch 48/50\n",
            "484/484 [==============================] - 54s 112ms/step - loss: 0.5323 - accuracy: 0.8425\n",
            "Epoch 49/50\n",
            "484/484 [==============================] - 54s 112ms/step - loss: 0.5406 - accuracy: 0.8433\n",
            "Epoch 50/50\n",
            "484/484 [==============================] - 55s 114ms/step - loss: 0.5354 - accuracy: 0.8412\n"
          ]
        }
      ]
    },
    {
      "cell_type": "code",
      "source": [
        "import matplotlib.pyplot as plt\n",
        "acc = history.history['accuracy']\n",
        "loss = history.history['loss']\n",
        "\n",
        "epochs = range(len(acc))\n",
        "\n",
        "plt.plot(epochs, acc, 'b', label='Training accuracy')\n",
        "plt.title('Training accuracy')\n",
        "\n",
        "plt.figure()\n",
        "\n",
        "plt.plot(epochs, loss, 'b', label='Training Loss')\n",
        "plt.title('Training loss')\n",
        "plt.legend()\n",
        "\n",
        "plt.show()"
      ],
      "metadata": {
        "id": "HMq2MUuohVAw",
        "colab": {
          "base_uri": "https://localhost:8080/",
          "height": 545
        },
        "outputId": "7b98fbea-567d-40a6-c1b6-c68aadd4fcb4"
      },
      "execution_count": 8,
      "outputs": [
        {
          "output_type": "display_data",
          "data": {
            "text/plain": [
              "<Figure size 432x288 with 1 Axes>"
            ],
            "image/png": "[encoded data removed]"
          },
          "metadata": {
            "needs_background": "light"
          }
        },
        {
          "output_type": "display_data",
          "data": {
            "text/plain": [
              "<Figure size 432x288 with 1 Axes>"
            ],
            "image/png": "[encoded data removed]"
          },
          "metadata": {
            "needs_background": "light"
          }
        }
      ]
    },
    {
      "cell_type": "code",
      "source": [
        "seed_text = \"Help me Obi Wan Kenobi, you're my only hope\"\n",
        "next_words = 69 \n",
        " #Play with this quantity to change the number of words you want to see in the output after the seed_text\n",
        "\n",
        "for _ in range(next_words):\n",
        "  token_list = tokenizer.texts_to_sequences([seed_text])[0]\n",
        "  token_list = pad_sequences([token_list], maxlen=max_sequence_len-1, padding='pre')\n",
        "  predict_x = model.predict(token_list)\n",
        "  classes_x = np.argmax(predict_x, axis=1)\n",
        "  output_word = \"\"\n",
        "  for word, index in tokenizer.word_index.items():\n",
        "    if index == classes_x:\n",
        "      output_word = word\n",
        "      break\n",
        "  seed_text += \" \" + output_word\n",
        "print(seed_text)"
      ],
      "metadata": {
        "id": "j5Q2VQek4ebV",
        "colab": {
          "base_uri": "https://localhost:8080/"
        },
        "outputId": "b6fbab73-2185-479c-fdfc-2d37a5c031bd"
      },
      "execution_count": 9,
      "outputs": [
        {
          "output_type": "stream",
          "name": "stdout",
          "text": [
            "Help me Obi Wan Kenobi, you're my only hope my name ' exceeds exceeds that in thee back thee releasing ill ill well well to thee away so belong worth such so belong worth such so worth worth it to hate now now bring forth light thence good prove life life prove thee back so deeds more cross true ' worth such so worth me to trust so free so ride ' in doubt strife hate of hate\n"
          ]
        }
      ]
    }
  ]
}
